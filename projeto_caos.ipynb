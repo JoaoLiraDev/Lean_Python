{
 "cells": [
  {
   "cell_type": "code",
   "execution_count": 10,
   "id": "dad26d4d-fb49-4c05-900c-21c2080a2b09",
   "metadata": {},
   "outputs": [
    {
     "name": "stdout",
     "output_type": "stream",
     "text": [
      "<seaborn.axisgrid.FacetGrid object at 0x00000275904307C0>\n"
     ]
    },
    {
     "data": {
      "image/png": "[encoded data removed]",
      "text/plain": [
       "<Figure size 360x360 with 1 Axes>"
      ]
     },
     "metadata": {
      "needs_background": "light"
     },
     "output_type": "display_data"
    }
   ],
   "source": [
    "import random\n",
    "import seaborn as sns\n",
    "\n",
    "class Academia:\n",
    "    def __init__(self):\n",
    "        self.halteres = [i for i in range(10, 36) if i % 2 == 0]\n",
    "        self.porta_halteres = {}\n",
    "        self.reiniciar_dia()\n",
    "    \n",
    "    def reiniciar_dia(self):\n",
    "        self.porta_halteres = {i: i for i in self.halteres}\n",
    "\n",
    "    def listar_halteres(self):\n",
    "        return [ i for i in self.porta_halteres.values() if i != 0]\n",
    "\n",
    "    def listar_espacos(self):\n",
    "        return [i for i, j in self.porta_halteres.items() if j == 0]\n",
    "\n",
    "    def pegar_haltere(self, peso):\n",
    "        haltere_pos = list(self.porta_halteres.values()).index(peso)\n",
    "        key_halter = list(self.porta_halteres.keys())[haltere_pos]\n",
    "        self.porta_halteres[key_halter] = 0\n",
    "        return peso\n",
    "    \n",
    "    def devolver_halter(self, pos, peso):\n",
    "        self.porta_halteres[pos] = peso\n",
    "\n",
    "\n",
    "    def calcular_caos(self):\n",
    "        num_caos = [i for i, j in self.porta_halteres.items() if i != j]\n",
    "        return len(num_caos) / len(self.porta_halteres)\n",
    "\n",
    "\n",
    "class Usuario:\n",
    "    def __init__(self, tipo, academia):\n",
    "        self.tipo = tipo\n",
    "        self.academia = academia\n",
    "        self.peso = 0\n",
    "    \n",
    "    def iniciar_treino(self):\n",
    "        lista_pesos = self.academia.listar_halteres()\n",
    "        self.peso = random.choice(lista_pesos)\n",
    "        self.academia.pegar_haltere(self.peso)\n",
    "    \n",
    "    def finalizar_treino(self):\n",
    "        espacos = self.academia.listar_espacos()\n",
    "\n",
    "        if self.tipo == 1:\n",
    "            if self.peso in espacos:\n",
    "                self.academia.devolver_halter(self.peso, self.peso)\n",
    "            else:\n",
    "                pos = random.choice(espacos)\n",
    "                self.academia.devolver_halter(pos, self.peso)\n",
    "\n",
    "        if self.tipo == 2:\n",
    "            pos = random.choice(espacos)\n",
    "            self.academia.devolver_halter(pos, self.peso)\n",
    "\n",
    "        self.peso = 0\n",
    "\n",
    "academia = Academia()\n",
    "\n",
    "usuarios = [Usuario(1, academia) for i in range(10)]\n",
    "\n",
    "usuarios += [Usuario(2, academia) for i in range(1)]\n",
    "random.shuffle(usuarios)\n",
    "\n",
    "list_chaos = []\n",
    "\n",
    "for k in range(50):\n",
    "    academia.reiniciar_dia()        \n",
    "    for i in range(10):\n",
    "        random.shuffle(usuarios)\n",
    "        for user in usuarios:\n",
    "            user.iniciar_treino()\n",
    "        for user in usuarios:\n",
    "            user.finalizar_treino()\n",
    "    list_chaos += [academia.calcular_caos()]\n",
    "    \n",
    "\n",
    "print(sns.displot(list_chaos))"
   ]
  }
 ],
 "metadata": {
  "kernelspec": {
   "display_name": "Python 3 (ipykernel)",
   "language": "python",
   "name": "python3"
  },
  "language_info": {
   "codemirror_mode": {
    "name": "ipython",
    "version": 3
   },
   "file_extension": ".py",
   "mimetype": "text/x-python",
   "name": "python",
   "nbconvert_exporter": "python",
   "pygments_lexer": "ipython3",
   "version": "3.9.7"
  }
 },
 "nbformat": 4,
 "nbformat_minor": 5
}
